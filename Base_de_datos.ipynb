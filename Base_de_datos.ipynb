{
  "nbformat": 4,
  "nbformat_minor": 0,
  "metadata": {
    "colab": {
      "provenance": [],
      "collapsed_sections": []
    },
    "kernelspec": {
      "name": "python3",
      "display_name": "Python 3"
    },
    "language_info": {
      "name": "python"
    }
  },
  "cells": [
    {
      "cell_type": "code",
      "source": [
        "from google.colab import drive\n",
        "drive.mount('/content/drive')"
      ],
      "metadata": {
        "colab": {
          "base_uri": "https://localhost:8080/"
        },
        "id": "Ya9RLBc1N1DC",
        "outputId": "a0e0c67a-312b-4621-fe4e-87bab937819d"
      },
      "execution_count": 1,
      "outputs": [
        {
          "output_type": "stream",
          "name": "stdout",
          "text": [
            "Mounted at /content/drive\n"
          ]
        }
      ]
    },
    {
      "cell_type": "code",
      "source": [
        "%cd /content/drive/MyDrive/Github"
      ],
      "metadata": {
        "colab": {
          "base_uri": "https://localhost:8080/"
        },
        "id": "XZZgeYf8OQgI",
        "outputId": "c6f868ee-3a78-4ac9-d8b0-8c09998e3fc7"
      },
      "execution_count": 6,
      "outputs": [
        {
          "output_type": "stream",
          "name": "stdout",
          "text": [
            "/content/drive/MyDrive/Github\n"
          ]
        }
      ]
    },
    {
      "cell_type": "markdown",
      "source": [
        "\n",
        "**ANALISIS ON CHAIN**\n",
        "---\n",
        "Consiste en examinar los fundamentos, la utilidad, y las transacciones de una criptomoneda y sus datos en blockchain (que funciona como un libro contable  abierto, y permite a un observador analizar cada transacción realizada y estimar la cantidad de monedas que están almacenadas o que han sido movidas por cualquier dirección en la red para analizar la situación macroeconómica del mercado.\n",
        "\n",
        "\n",
        "Una correcta lectura nos puede ayudar mucho a saber cuando salir o entrar en un proyecto o como manejar nuestro portafolio.\n"
      ],
      "metadata": {
        "id": "1pqBcyR9bFYi"
      }
    },
    {
      "cell_type": "markdown",
      "source": [
        "# ¿Qué son los datos On-Chain?\n",
        "\n",
        "Son transacciones realizadas en una blockchain pública y descentralizada. Esto incluye la autenticación y validación de transacciones por parte de mineros de criptomonedas.\n",
        "\n",
        "Los diferentes detalles de una transacción se registran en el bloque y se distribuyen a toda la blockchain, haciendo que la transacción sea irreversible, ya que no se puede modificar. Las carteras revelan las posiciones y las bases de costos de cada holder en cualquier momento del día.\n",
        "\n",
        "A largo plazo, el precio del bitcoin puede reaccionar más a los datos brutos que muestran la salud de la red, pero a corto y medio plazo el comportamiento de los compradores y vendedores puede ayudar a los inversores a superar el ruido en el precio y evaluar si un determinado activo es productivo o no."
      ],
      "metadata": {
        "id": "uWz2yewXdRDw"
      }
    },
    {
      "cell_type": "markdown",
      "source": [
        "# Algunas de las métricas\n",
        "A continuación, ejemplificaremos las principales métricas utilizadas para comprender el mercado de activos digitales a través de herramientas"
      ],
      "metadata": {
        "id": "xDucKdZifoKQ"
      }
    },
    {
      "cell_type": "code",
      "execution_count": null,
      "metadata": {
        "id": "61pVAZqP96n8"
      },
      "outputs": [],
      "source": [
        "import json\n",
        "import requests\n",
        "import pandas as pd\n",
        "import csv\n",
        "import pandas.io.json\n",
        "from functools import reduce\n",
        "\n",
        "# monkeypatch using standard python json module\n",
        "pd.io.json._json.loads = lambda s, *a, **kw: json.loads(s)"
      ]
    },
    {
      "cell_type": "code",
      "source": [
        "API_KEY = '23yTHbjR3sret3SNu4foURNObQ6'"
      ],
      "metadata": {
        "id": "5pYcuXoQ-Fze"
      },
      "execution_count": null,
      "outputs": []
    },
    {
      "cell_type": "code",
      "source": [
        "urls = [\n",
        "        'https://api.glassnode.com/v1/metrics/indicators/rhodl_ratio',\n",
        "        'https://api.glassnode.com/v1/metrics/market/mvrv_z_score',\n",
        "        'https://api.glassnode.com/v1/metrics/indicators/pi_cycle_top',\n",
        "        'https://api.glassnode.com/v1/metrics/distribution/balance_exchanges',\n",
        "        'https://api.glassnode.com/v1/metrics/market/price_usd_close',\n",
        "        'https://api.glassnode.com/v1/metrics/indicators/sopr',\n",
        "        'https://api.glassnode.com/v1/metrics/indicators/realized_loss',\n",
        "        'https://api.glassnode.com/v1/metrics/supply/profit_relative',\n",
        "        'https://api.glassnode.com/v1/metrics/mining/difficulty_latest',\n",
        "        'https://api.glassnode.com/v1/metrics/mining/hash_rate_mean',\n",
        "        'https://api.glassnode.com/v1/metrics/transactions/transfers_volume_mean']"
      ],
      "metadata": {
        "id": "mPGSqTOJ-6YQ"
      },
      "execution_count": null,
      "outputs": []
    },
    {
      "cell_type": "code",
      "source": [
        "data = []\n",
        "df_list = []\n",
        "\n",
        "\n",
        "res = [requests.get(url, params={\n",
        "      'a': 'BTC',\n",
        "      'api_key': API_KEY}) for url in urls]\n",
        "\n",
        "''' for i in range(len(res)):\n",
        "  df_list.append(pd.read_json(res[i].text, convert_dates=['t']))\n",
        "  df_list[i].rename(columns={'v':urls[i].split('/')[-1]}, inplace=True)\n",
        "  data.append(df_list[i]) '''\n",
        "\n",
        "df0= pd.read_json(res[0].text, convert_dates=['t'])\n",
        "df0.rename(columns={'v':urls[0].split('/')[-1]}, inplace=True)\n",
        "\n",
        "df1= pd.read_json(res[1].text, convert_dates=['t'])\n",
        "df1.rename(columns={'v':urls[1].split('/')[-1]}, inplace=True)\n",
        "\n",
        "df2= pd.read_json(res[2].text, convert_dates=['t'])\n",
        "df2.rename(columns={'v':urls[2].split('/')[-1]}, inplace=True)\n",
        "\n",
        "df3= pd.read_json(res[3].text, convert_dates=['t'])\n",
        "df3.rename(columns={'v':urls[3].split('/')[-1]}, inplace=True)\n",
        "\n",
        "df4= pd.read_json(res[4].text, convert_dates=['t'])\n",
        "df4.rename(columns={'v':urls[4].split('/')[-1]}, inplace=True)\n",
        "\n",
        "df5= pd.read_json(res[5].text, convert_dates=['t'])\n",
        "df5.rename(columns={'v':urls[5].split('/')[-1]}, inplace=True)\n",
        "\n",
        "df6= pd.read_json(res[6].text, convert_dates=['t'])\n",
        "df6.rename(columns={'v':urls[6].split('/')[-1]}, inplace=True)\n",
        "\n",
        "df7= pd.read_json(res[7].text, convert_dates=['t'])\n",
        "df7.rename(columns={'v':urls[7].split('/')[-1]}, inplace=True)\n",
        "\n",
        "df8= pd.read_json(res[8].text, convert_dates=['t'])\n",
        "df8.rename(columns={'v':urls[8].split('/')[-1]}, inplace=True)\n",
        "\n",
        "df9= pd.read_json(res[9].text, convert_dates=['t'])\n",
        "df9.rename(columns={'v':urls[9].split('/')[-1]}, inplace=True)\n",
        "\n",
        "df10= pd.read_json(res[10].text, convert_dates=['t'])\n",
        "df10.rename(columns={'v':urls[10].split('/')[-1]}, inplace=True)\n"
      ],
      "metadata": {
        "id": "QT5WfgCKHdE6"
      },
      "execution_count": null,
      "outputs": []
    },
    {
      "cell_type": "code",
      "source": [
        "df1.head()"
      ],
      "metadata": {
        "colab": {
          "base_uri": "https://localhost:8080/",
          "height": 206
        },
        "id": "BBlk8aEGb4G7",
        "outputId": "af5cf6ca-533a-4b31-da43-0c8189e4031c"
      },
      "execution_count": null,
      "outputs": [
        {
          "output_type": "execute_result",
          "data": {
            "text/plain": [
              "           t  mvrv_z_score\n",
              "0 2009-01-03           0.0\n",
              "1 2009-01-04           NaN\n",
              "2 2009-01-05           NaN\n",
              "3 2009-01-06           NaN\n",
              "4 2009-01-07           NaN"
            ],
            "text/html": [
              "\n",
              "  <div id=\"df-3436a83c-cdd7-4e28-a2a0-1b011bec6345\">\n",
              "    <div class=\"colab-df-container\">\n",
              "      <div>\n",
              "<style scoped>\n",
              "    .dataframe tbody tr th:only-of-type {\n",
              "        vertical-align: middle;\n",
              "    }\n",
              "\n",
              "    .dataframe tbody tr th {\n",
              "        vertical-align: top;\n",
              "    }\n",
              "\n",
              "    .dataframe thead th {\n",
              "        text-align: right;\n",
              "    }\n",
              "</style>\n",
              "<table border=\"1\" class=\"dataframe\">\n",
              "  <thead>\n",
              "    <tr style=\"text-align: right;\">\n",
              "      <th></th>\n",
              "      <th>t</th>\n",
              "      <th>mvrv_z_score</th>\n",
              "    </tr>\n",
              "  </thead>\n",
              "  <tbody>\n",
              "    <tr>\n",
              "      <th>0</th>\n",
              "      <td>2009-01-03</td>\n",
              "      <td>0.0</td>\n",
              "    </tr>\n",
              "    <tr>\n",
              "      <th>1</th>\n",
              "      <td>2009-01-04</td>\n",
              "      <td>NaN</td>\n",
              "    </tr>\n",
              "    <tr>\n",
              "      <th>2</th>\n",
              "      <td>2009-01-05</td>\n",
              "      <td>NaN</td>\n",
              "    </tr>\n",
              "    <tr>\n",
              "      <th>3</th>\n",
              "      <td>2009-01-06</td>\n",
              "      <td>NaN</td>\n",
              "    </tr>\n",
              "    <tr>\n",
              "      <th>4</th>\n",
              "      <td>2009-01-07</td>\n",
              "      <td>NaN</td>\n",
              "    </tr>\n",
              "  </tbody>\n",
              "</table>\n",
              "</div>\n",
              "      <button class=\"colab-df-convert\" onclick=\"convertToInteractive('df-3436a83c-cdd7-4e28-a2a0-1b011bec6345')\"\n",
              "              title=\"Convert this dataframe to an interactive table.\"\n",
              "              style=\"display:none;\">\n",
              "        \n",
              "  <svg xmlns=\"http://www.w3.org/2000/svg\" height=\"24px\"viewBox=\"0 0 24 24\"\n",
              "       width=\"24px\">\n",
              "    <path d=\"M0 0h24v24H0V0z\" fill=\"none\"/>\n",
              "    <path d=\"M18.56 5.44l.94 2.06.94-2.06 2.06-.94-2.06-.94-.94-2.06-.94 2.06-2.06.94zm-11 1L8.5 8.5l.94-2.06 2.06-.94-2.06-.94L8.5 2.5l-.94 2.06-2.06.94zm10 10l.94 2.06.94-2.06 2.06-.94-2.06-.94-.94-2.06-.94 2.06-2.06.94z\"/><path d=\"M17.41 7.96l-1.37-1.37c-.4-.4-.92-.59-1.43-.59-.52 0-1.04.2-1.43.59L10.3 9.45l-7.72 7.72c-.78.78-.78 2.05 0 2.83L4 21.41c.39.39.9.59 1.41.59.51 0 1.02-.2 1.41-.59l7.78-7.78 2.81-2.81c.8-.78.8-2.07 0-2.86zM5.41 20L4 18.59l7.72-7.72 1.47 1.35L5.41 20z\"/>\n",
              "  </svg>\n",
              "      </button>\n",
              "      \n",
              "  <style>\n",
              "    .colab-df-container {\n",
              "      display:flex;\n",
              "      flex-wrap:wrap;\n",
              "      gap: 12px;\n",
              "    }\n",
              "\n",
              "    .colab-df-convert {\n",
              "      background-color: #E8F0FE;\n",
              "      border: none;\n",
              "      border-radius: 50%;\n",
              "      cursor: pointer;\n",
              "      display: none;\n",
              "      fill: #1967D2;\n",
              "      height: 32px;\n",
              "      padding: 0 0 0 0;\n",
              "      width: 32px;\n",
              "    }\n",
              "\n",
              "    .colab-df-convert:hover {\n",
              "      background-color: #E2EBFA;\n",
              "      box-shadow: 0px 1px 2px rgba(60, 64, 67, 0.3), 0px 1px 3px 1px rgba(60, 64, 67, 0.15);\n",
              "      fill: #174EA6;\n",
              "    }\n",
              "\n",
              "    [theme=dark] .colab-df-convert {\n",
              "      background-color: #3B4455;\n",
              "      fill: #D2E3FC;\n",
              "    }\n",
              "\n",
              "    [theme=dark] .colab-df-convert:hover {\n",
              "      background-color: #434B5C;\n",
              "      box-shadow: 0px 1px 3px 1px rgba(0, 0, 0, 0.15);\n",
              "      filter: drop-shadow(0px 1px 2px rgba(0, 0, 0, 0.3));\n",
              "      fill: #FFFFFF;\n",
              "    }\n",
              "  </style>\n",
              "\n",
              "      <script>\n",
              "        const buttonEl =\n",
              "          document.querySelector('#df-3436a83c-cdd7-4e28-a2a0-1b011bec6345 button.colab-df-convert');\n",
              "        buttonEl.style.display =\n",
              "          google.colab.kernel.accessAllowed ? 'block' : 'none';\n",
              "\n",
              "        async function convertToInteractive(key) {\n",
              "          const element = document.querySelector('#df-3436a83c-cdd7-4e28-a2a0-1b011bec6345');\n",
              "          const dataTable =\n",
              "            await google.colab.kernel.invokeFunction('convertToInteractive',\n",
              "                                                     [key], {});\n",
              "          if (!dataTable) return;\n",
              "\n",
              "          const docLinkHtml = 'Like what you see? Visit the ' +\n",
              "            '<a target=\"_blank\" href=https://colab.research.google.com/notebooks/data_table.ipynb>data table notebook</a>'\n",
              "            + ' to learn more about interactive tables.';\n",
              "          element.innerHTML = '';\n",
              "          dataTable['output_type'] = 'display_data';\n",
              "          await google.colab.output.renderOutput(dataTable, element);\n",
              "          const docLink = document.createElement('div');\n",
              "          docLink.innerHTML = docLinkHtml;\n",
              "          element.appendChild(docLink);\n",
              "        }\n",
              "      </script>\n",
              "    </div>\n",
              "  </div>\n",
              "  "
            ]
          },
          "metadata": {},
          "execution_count": 5
        }
      ]
    },
    {
      "cell_type": "code",
      "source": [
        "#Unimos los dfs en una lista y mergeamos la lista de dataframe ordenados por el tiempo\n",
        "data_frames = [df0, df1, df2, df3, df4, df5, df6, df7, df8, df9]"
      ],
      "metadata": {
        "id": "6eB2Ih9a_DGf"
      },
      "execution_count": null,
      "outputs": []
    },
    {
      "cell_type": "code",
      "source": [
        "df_merged = reduce(lambda  left,right: pd.merge(left,right,on=['t'],\n",
        "                                            how='outer'), data_frames)"
      ],
      "metadata": {
        "id": "2ae5wT_NGKhF"
      },
      "execution_count": null,
      "outputs": []
    },
    {
      "cell_type": "code",
      "source": [
        "#Innecesario\n",
        "pd.DataFrame.to_csv(df_merged, 'Base de datos.csv', sep=',', na_rep='.', index=False)"
      ],
      "metadata": {
        "id": "l9IPps7uzEDy"
      },
      "execution_count": null,
      "outputs": []
    },
    {
      "cell_type": "code",
      "source": [
        "#Cambiar los datatypes\n",
        "df_merged.dtypes"
      ],
      "metadata": {
        "colab": {
          "base_uri": "https://localhost:8080/"
        },
        "id": "X18GqneZ59P4",
        "outputId": "a47b127a-c4d9-4924-f441-69c8589b7a8e"
      },
      "execution_count": null,
      "outputs": [
        {
          "output_type": "execute_result",
          "data": {
            "text/plain": [
              "t                    datetime64[ns]\n",
              "rhodl_ratio                 float64\n",
              "mvrv_z_score                float64\n",
              "o                            object\n",
              "balance_exchanges           float64\n",
              "price_usd_close             float64\n",
              "sopr                        float64\n",
              "realized_loss               float64\n",
              "profit_relative             float64\n",
              "difficulty_latest           float64\n",
              "hash_rate_mean              float64\n",
              "dtype: object"
            ]
          },
          "metadata": {},
          "execution_count": 11
        }
      ]
    },
    {
      "cell_type": "code",
      "source": [
        "#Explicacion de variables"
      ],
      "metadata": {
        "id": "SWk6Mmp17FIA"
      },
      "execution_count": null,
      "outputs": []
    }
  ]
}